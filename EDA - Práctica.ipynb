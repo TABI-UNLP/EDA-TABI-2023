{
  "cells": [
    {
      "cell_type": "markdown",
      "metadata": {
        "id": "lhSu2y-whfUj"
      },
      "source": [
        "# Práctica EDA\n",
        "El conjunto de datos que utilizaremos aquí son los datos de calidad del vino que contienen cierta información sobre el vino tinto y blanco.  \n",
        "La calidad del vino se basa en puntuaciones sensoriales (mediana de al menos 3 evaluaciones realizadas por expertos en vino).  \n",
        "Cada experto calificó la calidad del vino entre 0 (muy mala) y 10 (muy excelente).\n",
        "\n",
        "Variables\n",
        "\n",
        "Entrada:\n",
        "- fixed acidity\n",
        "- volatile acidity\n",
        "- citric acid\n",
        "- residual sugar\n",
        "- chlorides\n",
        "- free sulfur dioxide\n",
        "- total sulfur dioxide\n",
        "- density\n",
        "- pH\n",
        "- sulphates\n",
        "- alcohol\n",
        "\n",
        "Salida:\n",
        "- quality (score between 0 and 10)\n",
        "\n",
        "Importamos las librerías que vamos a utilizar"
      ]
    },
    {
      "cell_type": "code",
      "execution_count": 89,
      "metadata": {
        "id": "RQAFbRb0iH4-"
      },
      "outputs": [],
      "source": [
        "import pandas as pd\n",
        "\n",
        "import matplotlib.pyplot as plt\n",
        "import seaborn as sns\n",
        "\n",
        "import warnings\n",
        "warnings.filterwarnings('ignore')\n",
        "\n",
        "dataset_url = \"https://raw.githubusercontent.com/dphi-official/Datasets/master/Wine_Dataset/winequality-red.csv\"\n"
      ]
    },
    {
      "cell_type": "markdown",
      "metadata": {
        "id": "KTi5MpOdhtLB"
      },
      "source": [
        "\n",
        "## Exploración\n",
        "12 mini-ejercicios de pandas.\n",
        "La idea es que lo resuelvan utilizando funciones de la librería.\n",
        "Cada ejercicio tiene su solución, pero ¡primero intentar resolverlo!"
      ]
    },
    {
      "cell_type": "markdown",
      "metadata": {
        "id": "FUocTZJBizjB"
      },
      "source": []
    },
    {
      "cell_type": "markdown",
      "metadata": {},
      "source": [
        "### 1.1 Carga de Datos"
      ]
    },
    {
      "cell_type": "code",
      "execution_count": null,
      "metadata": {
        "id": "9ycX4kpEi1sO"
      },
      "outputs": [],
      "source": [
        "# 1.1 Cargar datos en el dataframe\n",
        "df_wine = ..."
      ]
    },
    {
      "cell_type": "markdown",
      "metadata": {
        "id": "qsF4l026i5vV"
      },
      "source": [
        "#### Solución 1.1"
      ]
    },
    {
      "cell_type": "code",
      "execution_count": null,
      "metadata": {
        "id": "07zPdB7Li8ye"
      },
      "outputs": [],
      "source": [
        "df_wine = pd.read_csv(dataset_url, sep=';')"
      ]
    },
    {
      "cell_type": "markdown",
      "metadata": {},
      "source": [
        "### 1.2 obtener los primeros 5 registros"
      ]
    },
    {
      "cell_type": "code",
      "execution_count": null,
      "metadata": {},
      "outputs": [],
      "source": [
        "# completar"
      ]
    },
    {
      "cell_type": "markdown",
      "metadata": {},
      "source": [
        "#### 1.2 Solución"
      ]
    },
    {
      "cell_type": "code",
      "execution_count": null,
      "metadata": {
        "id": "ZfMh9rDBkODN"
      },
      "outputs": [],
      "source": [
        "df_wine.head(5)"
      ]
    },
    {
      "cell_type": "markdown",
      "metadata": {},
      "source": [
        "### 1.3 obtener los últimos 5 registros"
      ]
    },
    {
      "cell_type": "code",
      "execution_count": null,
      "metadata": {},
      "outputs": [],
      "source": []
    },
    {
      "cell_type": "markdown",
      "metadata": {},
      "source": [
        "#### 1.3 Solución"
      ]
    },
    {
      "cell_type": "code",
      "execution_count": null,
      "metadata": {},
      "outputs": [],
      "source": [
        "df_wine.tail(5)\n"
      ]
    },
    {
      "cell_type": "markdown",
      "metadata": {},
      "source": [
        "### 1.4 obtener registor al azar"
      ]
    },
    {
      "cell_type": "code",
      "execution_count": null,
      "metadata": {},
      "outputs": [],
      "source": []
    },
    {
      "cell_type": "markdown",
      "metadata": {},
      "source": [
        "\n",
        "#### 1.4 Solución"
      ]
    },
    {
      "cell_type": "code",
      "execution_count": null,
      "metadata": {},
      "outputs": [],
      "source": [
        "# obtener registros al azar\n",
        "df_wine.sample(5)\n"
      ]
    },
    {
      "cell_type": "markdown",
      "metadata": {},
      "source": [
        "### 1.5 Obtener el número de columnas y filas"
      ]
    },
    {
      "cell_type": "code",
      "execution_count": null,
      "metadata": {},
      "outputs": [],
      "source": [
        "# completar"
      ]
    },
    {
      "cell_type": "markdown",
      "metadata": {},
      "source": [
        "#### 1.5 solución"
      ]
    },
    {
      "cell_type": "code",
      "execution_count": null,
      "metadata": {},
      "outputs": [],
      "source": [
        "# obtener el número de columnas y filas\n",
        "df_wine.shape"
      ]
    },
    {
      "cell_type": "markdown",
      "metadata": {},
      "source": [
        "### 1.6 Obtener estadísticas del dataset"
      ]
    },
    {
      "cell_type": "code",
      "execution_count": null,
      "metadata": {},
      "outputs": [],
      "source": []
    },
    {
      "cell_type": "markdown",
      "metadata": {},
      "source": [
        "#### 1.6 Solución"
      ]
    },
    {
      "cell_type": "code",
      "execution_count": null,
      "metadata": {},
      "outputs": [],
      "source": [
        "df_wine.describe().T"
      ]
    },
    {
      "cell_type": "markdown",
      "metadata": {},
      "source": [
        "### 1.7 descripción informativa del dataframe (tipo de datos, tiene nulls)"
      ]
    },
    {
      "cell_type": "code",
      "execution_count": null,
      "metadata": {},
      "outputs": [],
      "source": []
    },
    {
      "cell_type": "markdown",
      "metadata": {},
      "source": [
        "#### 1.7 Solución"
      ]
    },
    {
      "cell_type": "code",
      "execution_count": null,
      "metadata": {},
      "outputs": [],
      "source": [
        "df_wine.info()"
      ]
    },
    {
      "cell_type": "markdown",
      "metadata": {},
      "source": [
        "### 1.8 ¿cuántos valores únicos de la variable \"quality\" existen?"
      ]
    },
    {
      "cell_type": "code",
      "execution_count": null,
      "metadata": {},
      "outputs": [],
      "source": []
    },
    {
      "cell_type": "markdown",
      "metadata": {},
      "source": [
        "#### 1.8 Solución"
      ]
    },
    {
      "cell_type": "code",
      "execution_count": null,
      "metadata": {},
      "outputs": [],
      "source": [
        "df_wine.quality.nunique(), df_wine.quality.unique()"
      ]
    },
    {
      "cell_type": "markdown",
      "metadata": {},
      "source": [
        "### 1.9 ¿Cuál es la frecuencia de valores de \"quality\"? (cuántos valores de cada tipo)"
      ]
    },
    {
      "cell_type": "code",
      "execution_count": null,
      "metadata": {},
      "outputs": [],
      "source": []
    },
    {
      "cell_type": "markdown",
      "metadata": {},
      "source": [
        "#### 1.9 Solución"
      ]
    },
    {
      "cell_type": "code",
      "execution_count": null,
      "metadata": {},
      "outputs": [],
      "source": [
        "df_wine.quality.value_counts()"
      ]
    },
    {
      "cell_type": "markdown",
      "metadata": {},
      "source": [
        "### 1.10 ¿cuántos valores nulos tiene cada columna?"
      ]
    },
    {
      "cell_type": "code",
      "execution_count": null,
      "metadata": {},
      "outputs": [],
      "source": []
    },
    {
      "cell_type": "markdown",
      "metadata": {},
      "source": [
        "#### 1.10 Solución"
      ]
    },
    {
      "cell_type": "code",
      "execution_count": null,
      "metadata": {},
      "outputs": [],
      "source": [
        "df_wine.isna().sum()\n",
        "\n",
        "# isna te dice si un dato (fila, columna) es nulo. Si es nulo, devuelve True. Con la función sum() sumamos los \"True\".\n",
        "# también se puede usar la función info() u otras alternativas"
      ]
    },
    {
      "cell_type": "markdown",
      "metadata": {},
      "source": [
        "### 1.11 ¿hay filas duplicadas? ¿cuántas son?"
      ]
    },
    {
      "cell_type": "code",
      "execution_count": null,
      "metadata": {},
      "outputs": [],
      "source": []
    },
    {
      "cell_type": "markdown",
      "metadata": {},
      "source": [
        "#### 1.11 Solución"
      ]
    },
    {
      "cell_type": "code",
      "execution_count": null,
      "metadata": {},
      "outputs": [],
      "source": [
        "print(df_wine[df_wine.duplicated()].shape)\n",
        "df_wine[df_wine.duplicated()]\n"
      ]
    },
    {
      "cell_type": "markdown",
      "metadata": {},
      "source": [
        "### 1.12 Calcular la media y desviación de la columna 'residual sugar'"
      ]
    },
    {
      "cell_type": "code",
      "execution_count": null,
      "metadata": {},
      "outputs": [],
      "source": []
    },
    {
      "cell_type": "markdown",
      "metadata": {},
      "source": [
        "#### 1.12 Solución"
      ]
    },
    {
      "cell_type": "code",
      "execution_count": null,
      "metadata": {},
      "outputs": [],
      "source": [
        "df_wine['residual sugar'].mean(), df_wine['residual sugar'].std()"
      ]
    },
    {
      "cell_type": "markdown",
      "metadata": {},
      "source": [
        "### Otras funciones interesantes"
      ]
    },
    {
      "cell_type": "code",
      "execution_count": null,
      "metadata": {},
      "outputs": [],
      "source": [
        "# otras funciones a investigar\n",
        "print(df_wine['residual sugar'].median())\n",
        "print(df_wine['residual sugar'].kurtosis(), df_wine['residual sugar'].skew()) # https://www.odiolaestadistica.com/estadistica-python/asimetria/\n"
      ]
    },
    {
      "cell_type": "markdown",
      "metadata": {
        "id": "kx9e1B-VhsJl"
      },
      "source": [
        "\n",
        "## Visualizaciones\n",
        "\n"
      ]
    },
    {
      "cell_type": "markdown",
      "metadata": {},
      "source": [
        "En estos ejercicios se utilizará pyplot y seaborn para visualizaciones. \n",
        "Pueden intentar resolverlo con otras librerías a modo de ejercicio, tales como:\n",
        "- bokeh\n",
        "- plotly\n",
        "- datashader\n",
        "- ..."
      ]
    },
    {
      "cell_type": "markdown",
      "metadata": {},
      "source": [
        "### 2.1 Visualizar en un gráfico de barra, la cantidad de vinos por calidad.\n"
      ]
    },
    {
      "cell_type": "code",
      "execution_count": null,
      "metadata": {},
      "outputs": [],
      "source": []
    },
    {
      "cell_type": "markdown",
      "metadata": {},
      "source": [
        "#### 2.1 Solución"
      ]
    },
    {
      "cell_type": "code",
      "execution_count": null,
      "metadata": {},
      "outputs": [],
      "source": [
        "df_wine['quality'].value_counts().plot(kind='bar')"
      ]
    },
    {
      "cell_type": "code",
      "execution_count": null,
      "metadata": {},
      "outputs": [],
      "source": [
        "sns.countplot(df_wine, x='quality', hue='quality', palette='husl')"
      ]
    },
    {
      "cell_type": "markdown",
      "metadata": {},
      "source": [
        "### 2.2 Imprimir un histograma para cada variable numérica \n",
        "Opcional: corroborar skew y kurtosis"
      ]
    },
    {
      "cell_type": "code",
      "execution_count": null,
      "metadata": {},
      "outputs": [],
      "source": []
    },
    {
      "cell_type": "markdown",
      "metadata": {},
      "source": [
        "#### 2.2 Solución"
      ]
    },
    {
      "cell_type": "code",
      "execution_count": null,
      "metadata": {},
      "outputs": [],
      "source": [
        "_ = df_wine.hist(figsize=(20,10))"
      ]
    },
    {
      "cell_type": "code",
      "execution_count": null,
      "metadata": {},
      "outputs": [],
      "source": [
        "sns.histplot(df_wine, x='alcohol', palette='husl') # probar agregarle hue='quality'"
      ]
    },
    {
      "cell_type": "markdown",
      "metadata": {},
      "source": [
        "### 2.4 Crear un heatmap\n",
        "- Quitar la variable quality (pero no perderla, usar método drop), \n",
        "- calcular la correlación entre las variables restantes con 'corr()' \n",
        "- visualizarla con un heatmap"
      ]
    },
    {
      "cell_type": "code",
      "execution_count": null,
      "metadata": {},
      "outputs": [],
      "source": [
        "plt.figure(figsize=(16,10)) # dejar esto para que se vea un poquito más grande la figura\n",
        "# completar"
      ]
    },
    {
      "cell_type": "markdown",
      "metadata": {},
      "source": [
        "#### 2.4 solución"
      ]
    },
    {
      "cell_type": "code",
      "execution_count": null,
      "metadata": {},
      "outputs": [],
      "source": [
        "plt.figure(figsize=(16,10))\n",
        "sns.heatmap(df_wine.drop(columns='quality').corr(), annot=True)"
      ]
    },
    {
      "cell_type": "markdown",
      "metadata": {},
      "source": [
        "### 2.5 Usar pairplot\n",
        "- sns tiene muchas funciones, una de ellas son los \"pairplots\" la cual permite ver la correlación (como el heatmap). \n",
        "- Utilizar la columna \"quality\" como \"hue\" y aplicarlo a nuestro dataset.\n",
        "- HUE: https://en.wikipedia.org/wiki/Hue.\n",
        "- NOTA: puede tardar un poco en ejecutarse. "
      ]
    },
    {
      "cell_type": "code",
      "execution_count": null,
      "metadata": {},
      "outputs": [],
      "source": []
    },
    {
      "cell_type": "markdown",
      "metadata": {},
      "source": [
        "#### 2.5 Solución"
      ]
    },
    {
      "cell_type": "code",
      "execution_count": null,
      "metadata": {},
      "outputs": [],
      "source": [
        "plt.figure(figsize=(16,10))\n",
        "sns.pairplot(df_wine, hue='quality', palette='husl')"
      ]
    },
    {
      "cell_type": "markdown",
      "metadata": {},
      "source": [
        "### 2.6 graficar un boxplot para la variable alcohol, agrupado por quality"
      ]
    },
    {
      "cell_type": "code",
      "execution_count": null,
      "metadata": {},
      "outputs": [],
      "source": []
    },
    {
      "cell_type": "markdown",
      "metadata": {},
      "source": [
        "#### 2.6 Solución"
      ]
    },
    {
      "cell_type": "code",
      "execution_count": null,
      "metadata": {},
      "outputs": [],
      "source": [
        "# graficar un boxplot para la variable alcohol, agrupado por quality\n",
        "\n",
        "df_wine.boxplot(column='alcohol', by='quality')"
      ]
    },
    {
      "cell_type": "code",
      "execution_count": null,
      "metadata": {},
      "outputs": [],
      "source": [
        "sns.boxplot(x='quality', y='alcohol', data=df_wine)"
      ]
    },
    {
      "cell_type": "code",
      "execution_count": null,
      "metadata": {},
      "outputs": [],
      "source": []
    }
  ],
  "metadata": {
    "colab": {
      "provenance": []
    },
    "kernelspec": {
      "display_name": "Python 3",
      "name": "python3"
    },
    "language_info": {
      "codemirror_mode": {
        "name": "ipython",
        "version": 3
      },
      "file_extension": ".py",
      "mimetype": "text/x-python",
      "name": "python",
      "nbconvert_exporter": "python",
      "pygments_lexer": "ipython3",
      "version": "3.11.4"
    }
  },
  "nbformat": 4,
  "nbformat_minor": 0
}
